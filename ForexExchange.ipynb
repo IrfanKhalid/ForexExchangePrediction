{
  "nbformat": 4,
  "nbformat_minor": 0,
  "metadata": {
    "colab": {
      "name": "ForexExchange.ipynb",
      "version": "0.3.2",
      "provenance": [],
      "collapsed_sections": [],
      "include_colab_link": true
    },
    "kernelspec": {
      "display_name": "Python 3",
      "language": "python",
      "name": "python3"
    }
  },
  "cells": [
    {
      "cell_type": "markdown",
      "metadata": {
        "id": "view-in-github",
        "colab_type": "text"
      },
      "source": [
        "<a href=\"https://colab.research.google.com/github/IrfanKhalid/ForexExchangePrediction/blob/master/ForexExchange.ipynb\" target=\"_parent\"><img src=\"https://colab.research.google.com/assets/colab-badge.svg\" alt=\"Open In Colab\"/></a>"
      ]
    },
    {
      "metadata": {
        "id": "goYGBKrxetYM",
        "colab_type": "code",
        "colab": {}
      },
      "cell_type": "code",
      "source": [
        "#Install necessary Packages\n",
        "\n",
        "!pip install mpl_finance"
      ],
      "execution_count": 0,
      "outputs": []
    },
    {
      "metadata": {
        "id": "BVjddWVff0vy",
        "colab_type": "code",
        "colab": {}
      },
      "cell_type": "code",
      "source": [
        "import numpy as np\n",
        "import pandas as pd\n",
        "\n",
        "import matplotlib.pyplot as plt\n",
        "from matplotlib.dates import DateFormatter , WeekdayLocator,DayLocator,MONDAY\n",
        "\n",
        "\n",
        "from sklearn.model_selection import train_test_split\n",
        "from sklearn.ensemble import RandomForestClassifier , GradientBoostingClassifier\n",
        "from sklearn.tree import DecisionTreeClassifier\n",
        "from sklearn.model_selection import cross_val_score\n",
        "from sklearn import svm\n",
        "\n",
        "import mpl_finance\n",
        "\n",
        "import warnings\n",
        "warnings.filterwarnings(\"ignore\")\n"
      ],
      "execution_count": 0,
      "outputs": []
    },
    {
      "metadata": {
        "colab_type": "code",
        "id": "XaiEq0iLByH6",
        "colab": {}
      },
      "cell_type": "code",
      "source": [
        "from google.colab import drive\n",
        "drive.mount('/content/drive')\n"
      ],
      "execution_count": 0,
      "outputs": []
    },
    {
      "metadata": {
        "colab_type": "code",
        "id": "c81ia0ihDP6G",
        "colab": {}
      },
      "cell_type": "code",
      "source": [
        "!ls drive/'My Drive'"
      ],
      "execution_count": 0,
      "outputs": []
    },
    {
      "metadata": {
        "colab_type": "code",
        "id": "CBBmqYhQB9kZ",
        "colab": {}
      },
      "cell_type": "code",
      "source": [
        "#Load Data\n",
        "Forex=pd.read_csv(\"drive/My Drive/Forex_AUDUSD1440.csv\")"
      ],
      "execution_count": 0,
      "outputs": []
    },
    {
      "metadata": {
        "colab_type": "code",
        "id": "f3MGg_q0EWtV",
        "outputId": "24be03d6-d4da-4114-e858-cb1d2ef2c2d8",
        "colab": {
          "base_uri": "https://localhost:8080/",
          "height": 195
        }
      },
      "cell_type": "code",
      "source": [
        "#Exploratory Analysis: It has five columns, We added two more current open and current close'(predict)' in order to\n",
        "#improve Algorithm performace\n",
        "Forex.head()"
      ],
      "execution_count": 64,
      "outputs": [
        {
          "output_type": "execute_result",
          "data": {
            "text/html": [
              "<div>\n",
              "<style scoped>\n",
              "    .dataframe tbody tr th:only-of-type {\n",
              "        vertical-align: middle;\n",
              "    }\n",
              "\n",
              "    .dataframe tbody tr th {\n",
              "        vertical-align: top;\n",
              "    }\n",
              "\n",
              "    .dataframe thead th {\n",
              "        text-align: right;\n",
              "    }\n",
              "</style>\n",
              "<table border=\"1\" class=\"dataframe\">\n",
              "  <thead>\n",
              "    <tr style=\"text-align: right;\">\n",
              "      <th></th>\n",
              "      <th>Time</th>\n",
              "      <th>Open</th>\n",
              "      <th>High</th>\n",
              "      <th>Low</th>\n",
              "      <th>Close</th>\n",
              "      <th>Volume</th>\n",
              "      <th>currentopen</th>\n",
              "      <th>currentclose(predict)</th>\n",
              "    </tr>\n",
              "  </thead>\n",
              "  <tbody>\n",
              "    <tr>\n",
              "      <th>0</th>\n",
              "      <td>2012.12.10</td>\n",
              "      <td>1.04865</td>\n",
              "      <td>1.05049</td>\n",
              "      <td>1.04643</td>\n",
              "      <td>1.04868</td>\n",
              "      <td>59083</td>\n",
              "      <td>1.04870</td>\n",
              "      <td>1.05266</td>\n",
              "    </tr>\n",
              "    <tr>\n",
              "      <th>1</th>\n",
              "      <td>2012.12.11</td>\n",
              "      <td>1.04870</td>\n",
              "      <td>1.05315</td>\n",
              "      <td>1.04602</td>\n",
              "      <td>1.05266</td>\n",
              "      <td>61555</td>\n",
              "      <td>1.05265</td>\n",
              "      <td>1.05531</td>\n",
              "    </tr>\n",
              "    <tr>\n",
              "      <th>2</th>\n",
              "      <td>2012.12.12</td>\n",
              "      <td>1.05265</td>\n",
              "      <td>1.05848</td>\n",
              "      <td>1.05219</td>\n",
              "      <td>1.05531</td>\n",
              "      <td>68021</td>\n",
              "      <td>1.05522</td>\n",
              "      <td>1.05264</td>\n",
              "    </tr>\n",
              "    <tr>\n",
              "      <th>3</th>\n",
              "      <td>2012.12.13</td>\n",
              "      <td>1.05522</td>\n",
              "      <td>1.05628</td>\n",
              "      <td>1.05072</td>\n",
              "      <td>1.05264</td>\n",
              "      <td>66515</td>\n",
              "      <td>1.05261</td>\n",
              "      <td>1.05651</td>\n",
              "    </tr>\n",
              "    <tr>\n",
              "      <th>4</th>\n",
              "      <td>2012.12.14</td>\n",
              "      <td>1.05261</td>\n",
              "      <td>1.05770</td>\n",
              "      <td>1.05090</td>\n",
              "      <td>1.05651</td>\n",
              "      <td>68063</td>\n",
              "      <td>1.05507</td>\n",
              "      <td>1.05499</td>\n",
              "    </tr>\n",
              "  </tbody>\n",
              "</table>\n",
              "</div>"
            ],
            "text/plain": [
              "         Time     Open     High      Low    Close  Volume  currentopen  \\\n",
              "0  2012.12.10  1.04865  1.05049  1.04643  1.04868   59083      1.04870   \n",
              "1  2012.12.11  1.04870  1.05315  1.04602  1.05266   61555      1.05265   \n",
              "2  2012.12.12  1.05265  1.05848  1.05219  1.05531   68021      1.05522   \n",
              "3  2012.12.13  1.05522  1.05628  1.05072  1.05264   66515      1.05261   \n",
              "4  2012.12.14  1.05261  1.05770  1.05090  1.05651   68063      1.05507   \n",
              "\n",
              "   currentclose(predict)  \n",
              "0                1.05266  \n",
              "1                1.05531  \n",
              "2                1.05264  \n",
              "3                1.05651  \n",
              "4                1.05499  "
            ]
          },
          "metadata": {
            "tags": []
          },
          "execution_count": 64
        }
      ]
    },
    {
      "metadata": {
        "colab_type": "code",
        "id": "ARRgySy2ShwY",
        "outputId": "f14f85ff-2a85-41f6-b7ee-c498daf0c4e9",
        "colab": {
          "base_uri": "https://localhost:8080/",
          "height": 318
        }
      },
      "cell_type": "code",
      "source": [
        "#It does contain any null values\n",
        "print(\"Forex Dimensions\",Forex.shape,\"\\n\")\n",
        "Forex.describe()"
      ],
      "execution_count": 18,
      "outputs": [
        {
          "output_type": "stream",
          "text": [
            "Forex Dimensions (1535, 8) \n",
            "\n"
          ],
          "name": "stdout"
        },
        {
          "output_type": "execute_result",
          "data": {
            "text/html": [
              "<div>\n",
              "<style scoped>\n",
              "    .dataframe tbody tr th:only-of-type {\n",
              "        vertical-align: middle;\n",
              "    }\n",
              "\n",
              "    .dataframe tbody tr th {\n",
              "        vertical-align: top;\n",
              "    }\n",
              "\n",
              "    .dataframe thead th {\n",
              "        text-align: right;\n",
              "    }\n",
              "</style>\n",
              "<table border=\"1\" class=\"dataframe\">\n",
              "  <thead>\n",
              "    <tr style=\"text-align: right;\">\n",
              "      <th></th>\n",
              "      <th>Open</th>\n",
              "      <th>High</th>\n",
              "      <th>Low</th>\n",
              "      <th>Close</th>\n",
              "      <th>Volume</th>\n",
              "      <th>currentopen</th>\n",
              "      <th>currentclose(predict)</th>\n",
              "    </tr>\n",
              "  </thead>\n",
              "  <tbody>\n",
              "    <tr>\n",
              "      <th>count</th>\n",
              "      <td>1535.000000</td>\n",
              "      <td>1535.000000</td>\n",
              "      <td>1535.000000</td>\n",
              "      <td>1535.000000</td>\n",
              "      <td>1535.000000</td>\n",
              "      <td>1535.000000</td>\n",
              "      <td>1535.000000</td>\n",
              "    </tr>\n",
              "    <tr>\n",
              "      <th>mean</th>\n",
              "      <td>0.817875</td>\n",
              "      <td>0.821722</td>\n",
              "      <td>0.813978</td>\n",
              "      <td>0.817702</td>\n",
              "      <td>68223.367427</td>\n",
              "      <td>0.817662</td>\n",
              "      <td>0.817488</td>\n",
              "    </tr>\n",
              "    <tr>\n",
              "      <th>std</th>\n",
              "      <td>0.097278</td>\n",
              "      <td>0.097181</td>\n",
              "      <td>0.096970</td>\n",
              "      <td>0.097114</td>\n",
              "      <td>21369.698016</td>\n",
              "      <td>0.097130</td>\n",
              "      <td>0.096967</td>\n",
              "    </tr>\n",
              "    <tr>\n",
              "      <th>min</th>\n",
              "      <td>0.683970</td>\n",
              "      <td>0.692450</td>\n",
              "      <td>0.682640</td>\n",
              "      <td>0.685990</td>\n",
              "      <td>13722.000000</td>\n",
              "      <td>0.683970</td>\n",
              "      <td>0.685990</td>\n",
              "    </tr>\n",
              "    <tr>\n",
              "      <th>25%</th>\n",
              "      <td>0.746865</td>\n",
              "      <td>0.750730</td>\n",
              "      <td>0.743540</td>\n",
              "      <td>0.746905</td>\n",
              "      <td>55817.000000</td>\n",
              "      <td>0.746840</td>\n",
              "      <td>0.746860</td>\n",
              "    </tr>\n",
              "    <tr>\n",
              "      <th>50%</th>\n",
              "      <td>0.773180</td>\n",
              "      <td>0.777080</td>\n",
              "      <td>0.768930</td>\n",
              "      <td>0.772860</td>\n",
              "      <td>66859.000000</td>\n",
              "      <td>0.772860</td>\n",
              "      <td>0.772830</td>\n",
              "    </tr>\n",
              "    <tr>\n",
              "      <th>75%</th>\n",
              "      <td>0.903165</td>\n",
              "      <td>0.907155</td>\n",
              "      <td>0.898840</td>\n",
              "      <td>0.902925</td>\n",
              "      <td>78607.500000</td>\n",
              "      <td>0.902960</td>\n",
              "      <td>0.902790</td>\n",
              "    </tr>\n",
              "    <tr>\n",
              "      <th>max</th>\n",
              "      <td>1.059590</td>\n",
              "      <td>1.059710</td>\n",
              "      <td>1.053110</td>\n",
              "      <td>1.059610</td>\n",
              "      <td>161462.000000</td>\n",
              "      <td>1.059590</td>\n",
              "      <td>1.059610</td>\n",
              "    </tr>\n",
              "  </tbody>\n",
              "</table>\n",
              "</div>"
            ],
            "text/plain": [
              "              Open         High          Low        Close         Volume  \\\n",
              "count  1535.000000  1535.000000  1535.000000  1535.000000    1535.000000   \n",
              "mean      0.817875     0.821722     0.813978     0.817702   68223.367427   \n",
              "std       0.097278     0.097181     0.096970     0.097114   21369.698016   \n",
              "min       0.683970     0.692450     0.682640     0.685990   13722.000000   \n",
              "25%       0.746865     0.750730     0.743540     0.746905   55817.000000   \n",
              "50%       0.773180     0.777080     0.768930     0.772860   66859.000000   \n",
              "75%       0.903165     0.907155     0.898840     0.902925   78607.500000   \n",
              "max       1.059590     1.059710     1.053110     1.059610  161462.000000   \n",
              "\n",
              "       currentopen  currentclose(predict)  \n",
              "count  1535.000000            1535.000000  \n",
              "mean      0.817662               0.817488  \n",
              "std       0.097130               0.096967  \n",
              "min       0.683970               0.685990  \n",
              "25%       0.746840               0.746860  \n",
              "50%       0.772860               0.772830  \n",
              "75%       0.902960               0.902790  \n",
              "max       1.059590               1.059610  "
            ]
          },
          "metadata": {
            "tags": []
          },
          "execution_count": 18
        }
      ]
    },
    {
      "metadata": {
        "id": "NQss5vW9jo3u",
        "colab_type": "code",
        "colab": {
          "base_uri": "https://localhost:8080/",
          "height": 168
        },
        "outputId": "81db75b7-9344-4de3-c185-9df39fcb0c2c"
      },
      "cell_type": "code",
      "source": [
        "#All the values except Volume and Time are floating points upto 5 decimals.\n",
        "Forex.dtypes"
      ],
      "execution_count": 14,
      "outputs": [
        {
          "output_type": "execute_result",
          "data": {
            "text/plain": [
              "Time                      object\n",
              "Open                     float64\n",
              "High                     float64\n",
              "Low                      float64\n",
              "Close                    float64\n",
              "Volume                     int64\n",
              "currentopen              float64\n",
              "currentclose(predict)    float64\n",
              "dtype: object"
            ]
          },
          "metadata": {
            "tags": []
          },
          "execution_count": 14
        }
      ]
    },
    {
      "metadata": {
        "colab_type": "code",
        "id": "WB4uRa9VgCgc",
        "colab": {
          "base_uri": "https://localhost:8080/",
          "height": 358
        },
        "outputId": "a91eaeea-a8b7-49aa-d449-06572ec09059"
      },
      "cell_type": "code",
      "source": [
        "#Visualization to understand the data distribution \n",
        "\n",
        "ForexT=Forex[['High','Low','Close','Open','Time']]\n",
        "ForexT.Time = pd.to_datetime(ForexT.Time)\n",
        "ForexT.set_index('Time', inplace=True)\n",
        "ForexT.plot(figsize=(10,5), linewidth=1, fontsize=15)\n",
        "plt.xlabel('Year', fontsize=10);\n",
        "plt.title('Forex Rate of AUD/USD with Time')"
      ],
      "execution_count": 65,
      "outputs": [
        {
          "output_type": "execute_result",
          "data": {
            "text/plain": [
              "Text(0.5,1,'Forex Rate of AUD/USD with Time')"
            ]
          },
          "metadata": {
            "tags": []
          },
          "execution_count": 65
        },
        {
          "output_type": "display_data",
          "data": {
            "image/png": "[encoded data removed]",
            "text/plain": [
              "<matplotlib.figure.Figure at 0x7f3c4eb4fd68>"
            ]
          },
          "metadata": {
            "tags": []
          }
        }
      ]
    },
    {
      "metadata": {
        "colab_type": "code",
        "id": "qbhNmOOzgBDM",
        "colab": {}
      },
      "cell_type": "code",
      "source": [
        "# Data Engineering, Random Foresr can't handle float so we will convert all attributes into int\n",
        "Forex.Open=(Forex.Open*100000).astype(int)\n",
        "Forex.Close=(Forex.Close*100000).astype(int)\n",
        "Forex.High=(Forex.High*100000).astype(int)\n",
        "Forex.Low=(Forex.Low*100000).astype(int)\n",
        "Forex.currentopen=(Forex.currentopen*100000).astype(int)\n",
        "Forex['currentclose(predict)']=(Forex['currentclose(predict)'] *100000).astype(int)\n"
      ],
      "execution_count": 0,
      "outputs": []
    },
    {
      "metadata": {
        "id": "gsldR8gdBJgS",
        "colab_type": "code",
        "colab": {}
      },
      "cell_type": "code",
      "source": [
        "# Create New Attribute for classification task 'Profit', if curreny will close more than opening, than we will have profit, otherwise we will have lost\n",
        "\n",
        "Forex['Prdeict']=Forex['currentclose(predict)']-Forex['currentopen']\n",
        "Forex['Prdeict']=Forex['Prdeict'].apply(lambda x: 1 if x > 0 else 0)\n"
      ],
      "execution_count": 0,
      "outputs": []
    },
    {
      "metadata": {
        "id": "gSD1PVIiAAWS",
        "colab_type": "code",
        "colab": {
          "base_uri": "https://localhost:8080/",
          "height": 34
        },
        "outputId": "796939d8-144f-46a3-ca94-bd55bf7f7ac7"
      },
      "cell_type": "code",
      "source": [
        "#Split data into train and test\n",
        "\n",
        "ForexTrain=Forex[['Open','High','Low','Close','Volume','currentopen']] \n",
        "ForexTest=Forex['Prdeict']\n",
        "X_train, X_test,Y_train, Y_test = train_test_split(ForexTrain, ForexTest, test_size = 0.10, random_state = 0)\n",
        "print (ForexTrain.shape , X_train.shape , X_test.shape , Y_train.shape , Y_test.shape )"
      ],
      "execution_count": 98,
      "outputs": [
        {
          "output_type": "stream",
          "text": [
            "(1535, 6) (1381, 6) (154, 6) (1381,) (154,)\n"
          ],
          "name": "stdout"
        }
      ]
    },
    {
      "metadata": {
        "colab_type": "code",
        "id": "74P55PmBh9a8",
        "outputId": "f933d7ec-9290-4871-eb73-9ffb9dd58b97",
        "colab": {
          "base_uri": "https://localhost:8080/",
          "height": 134
        }
      },
      "cell_type": "code",
      "source": [
        "# Random Forest Classifier\n",
        "\n",
        "Model = RandomForestClassifier(n_estimators=30,max_depth=10)\n",
        "Model.fit( X_train , Y_train )"
      ],
      "execution_count": 118,
      "outputs": [
        {
          "output_type": "execute_result",
          "data": {
            "text/plain": [
              "RandomForestClassifier(bootstrap=True, class_weight=None, criterion='gini',\n",
              "            max_depth=10, max_features='auto', max_leaf_nodes=None,\n",
              "            min_impurity_decrease=0.0, min_impurity_split=None,\n",
              "            min_samples_leaf=1, min_samples_split=2,\n",
              "            min_weight_fraction_leaf=0.0, n_estimators=30, n_jobs=1,\n",
              "            oob_score=False, random_state=None, verbose=0,\n",
              "            warm_start=False)"
            ]
          },
          "metadata": {
            "tags": []
          },
          "execution_count": 118
        }
      ]
    },
    {
      "metadata": {
        "id": "-ITEYDNfD3Hz",
        "colab_type": "code",
        "colab": {
          "base_uri": "https://localhost:8080/",
          "height": 67
        },
        "outputId": "1d76fd4c-93cf-4920-da55-8dc094cb1434"
      },
      "cell_type": "code",
      "source": [
        "print (\"Random Forest \\nTraining Score:\",Model.score( X_train , Y_train ),\"\\nTest Score:    \" , Model.score( X_test , Y_test ))\n"
      ],
      "execution_count": 123,
      "outputs": [
        {
          "output_type": "stream",
          "text": [
            "Random Forest \n",
            "Training Score: 0.8580738595220855 \n",
            "Test Score:     0.5454545454545454\n"
          ],
          "name": "stdout"
        }
      ]
    },
    {
      "metadata": {
        "colab_type": "code",
        "id": "bG35F9ELol3d",
        "outputId": "6c0d18f4-b2d2-49eb-dde7-828dd43a468e",
        "colab": {
          "base_uri": "https://localhost:8080/",
          "height": 84
        }
      },
      "cell_type": "code",
      "source": [
        "model = svm.LinearSVC(max_iter=95,multi_class='crammer_singer')\n",
        "model.fit(X_train , Y_train)"
      ],
      "execution_count": 140,
      "outputs": [
        {
          "output_type": "execute_result",
          "data": {
            "text/plain": [
              "LinearSVC(C=1.0, class_weight=None, dual=True, fit_intercept=True,\n",
              "     intercept_scaling=1, loss='squared_hinge', max_iter=95,\n",
              "     multi_class='crammer_singer', penalty='l2', random_state=None,\n",
              "     tol=0.0001, verbose=0)"
            ]
          },
          "metadata": {
            "tags": []
          },
          "execution_count": 140
        }
      ]
    },
    {
      "metadata": {
        "colab_type": "code",
        "id": "Hqp7LXEPhuv4",
        "outputId": "a2819562-ce72-4bfd-b259-9d860311fd0f",
        "colab": {
          "base_uri": "https://localhost:8080/",
          "height": 67
        }
      },
      "cell_type": "code",
      "source": [
        "print (\"Suport Vector Machine \\n Training Score:\",model.score( X_train , Y_train ),\"\\n Test Score\" , model.score( X_test , Y_test ))\n"
      ],
      "execution_count": 141,
      "outputs": [
        {
          "output_type": "stream",
          "text": [
            "Suport Vector Machine \n",
            " Training Score: 0.501810282404055 \n",
            " Test Score 0.525974025974026\n"
          ],
          "name": "stdout"
        }
      ]
    },
    {
      "metadata": {
        "id": "XIcaR7Ml3HtG",
        "colab_type": "code",
        "colab": {
          "base_uri": "https://localhost:8080/",
          "height": 393
        },
        "outputId": "8c8434c0-a943-4aa3-cef2-9924c30f6127"
      },
      "cell_type": "code",
      "source": [
        "# Simple Moving Average \n",
        "\n",
        "Long_rolling=Forex.rolling(window=200).mean()\n",
        "Long_rolling=short_rolling[['High']]\n",
        "plt.plot(Long_rolling,'.b')\n",
        "\n",
        "short_rolling = Forex.rolling(window=2).mean()\n",
        "short_rolling=short_rolling[['High']]\n",
        "plt.plot(short_rolling,'-y',)\n",
        "\n",
        "plt.xlabel('Year', fontsize=10);\n",
        "plt.title('Forex Rate of AUD/USD with Time')\n"
      ],
      "execution_count": 80,
      "outputs": [
        {
          "output_type": "execute_result",
          "data": {
            "text/plain": [
              "Text(0.5,1,'Forex Rate of AUD/USD with Time')"
            ]
          },
          "metadata": {
            "tags": []
          },
          "execution_count": 80
        },
        {
          "output_type": "display_data",
          "data": {
            "image/png": "[encoded data removed]",
            "text/plain": [
              "<matplotlib.figure.Figure at 0x7f3c7935eeb8>"
            ]
          },
          "metadata": {
            "tags": []
          }
        }
      ]
    },
    {
      "metadata": {
        "id": "qkynVm4Md6Xc",
        "colab_type": "code",
        "colab": {
          "base_uri": "https://localhost:8080/",
          "height": 300
        },
        "outputId": "f9991f60-23a6-4c8e-d3d3-200051a202be"
      },
      "cell_type": "code",
      "source": [
        "#Candle Stick for high,low,open and close\n",
        "\n",
        "def candlestick_plot(dat , stick = 'day' , otherseries = None):\n",
        "    years = []\n",
        "    mondays = WeekdayLocator(MONDAY)        # major ticks on the mondays\n",
        "    alldays = DayLocator()              # minor ticks on the days\n",
        "    dayFormatter = DateFormatter('%d')      # e.g., 12\n",
        " \n",
        "    # Create a new DataFrame which includes OHLC data for each period specified by stick input\n",
        "    temp_data = dat.loc[:,[\"Open\", \"High\", \"Low\", \"Close\"]]\n",
        "    if (type(stick) == str):\n",
        "        if stick == \"day\":\n",
        "            plotdat = temp_data\n",
        "            stick = 1 # Used for plotting\n",
        "        \n",
        "\n",
        "    # Set plot parameters, including the axis object ax used for plotting\n",
        "    fig, ax = plt.subplots()\n",
        "    fig.subplots_adjust(bottom=0.2)\n",
        "\n",
        "    #if plotdat.index[-1] - plotdat.index[0] < pd.Timedelta('730 days') :\n",
        "    weekFormatter = DateFormatter('%b %d')  # e.g., Jan 12\n",
        "    ax.xaxis.set_major_locator(mondays)\n",
        "    ax.xaxis.set_minor_locator(alldays)\n",
        "    #else:\n",
        "    #weekFormatter = DateFormatter('%b %d, %Y')\n",
        "    ax.xaxis.set_major_formatter(weekFormatter)\n",
        " \n",
        "    ax.grid(True)\n",
        " \n",
        "    # Create the candelstick chart\n",
        "    mpl_finance.candlestick2_ohlc(ax, plotdat[\"Open\"].tolist(), plotdat[\"High\"].tolist(),\n",
        "                      plotdat[\"Low\"].tolist(), plotdat[\"Close\"].tolist(),\n",
        "                      colorup = \"black\", colordown = \"red\", width = stick * 0.5)\n",
        " \n",
        "    # Plot other series as lines\n",
        "    ax.xaxis_date()\n",
        "    ax.autoscale_view()\n",
        "    plt.setp(plt.gca().get_xticklabels(), rotation=45, horizontalalignment='right')    \n",
        "    plt.show()\n",
        " \n",
        "candlestick_plot(Forex)"
      ],
      "execution_count": 92,
      "outputs": [
        {
          "output_type": "display_data",
          "data": {
            "image/png": "[encoded data removed]",
            "text/plain": [
              "<matplotlib.figure.Figure at 0x7f3c4f98ea20>"
            ]
          },
          "metadata": {
            "tags": []
          }
        }
      ]
    },
    {
      "metadata": {
        "id": "j2S_lfcsd6Xk",
        "colab_type": "code",
        "colab": {}
      },
      "cell_type": "code",
      "source": [
        ""
      ],
      "execution_count": 0,
      "outputs": []
    }
  ]
}