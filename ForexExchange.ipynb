{
  "nbformat": 4,
  "nbformat_minor": 0,
  "metadata": {
    "colab": {
      "name": "ForexExchange.ipynb",
      "version": "0.3.2",
      "provenance": [],
      "collapsed_sections": [],
      "include_colab_link": true
    },
    "kernelspec": {
      "name": "python3",
      "display_name": "Python 3"
    },
    "accelerator": "TPU"
  },
  "cells": [
    {
      "cell_type": "markdown",
      "metadata": {
        "id": "view-in-github",
        "colab_type": "text"
      },
      "source": [
        "<a href=\"https://colab.research.google.com/github/IrfanKhalid/ForexExchangePrediction/blob/master/ForexExchange.ipynb\" target=\"_parent\"><img src=\"https://colab.research.google.com/assets/colab-badge.svg\" alt=\"Open In Colab\"/></a>"
      ]
    },
    {
      "metadata": {
        "id": "4zy0LQHIBM_J",
        "colab_type": "code",
        "colab": {}
      },
      "cell_type": "code",
      "source": [
        "import numpy as np\n",
        "import pandas as pd\n",
        "import matplotlib.pyplot as plt\n",
        "import seaborn as sns; sns.set(style=\"ticks\", color_codes=True)\n",
        "import os\n",
        "#import plotly as plt\n",
        "import matplotlib.gridspec as gridspec\n",
        "from sklearn.model_selection import train_test_split\n",
        "from sklearn.ensemble import RandomForestClassifier , GradientBoostingClassifier\n",
        "from sklearn.tree import DecisionTreeClassifier\n",
        "from sklearn.linear_model import LogisticRegression\n",
        "from sklearn.model_selection import cross_val_score\n",
        "from sklearn import svm\n",
        "\n",
        "from sklearn.metrics import mean_squared_error\n",
        "from math import sqrt\n",
        "\n",
        "import warnings\n",
        "warnings.filterwarnings(\"ignore\")\n"
      ],
      "execution_count": 0,
      "outputs": []
    },
    {
      "metadata": {
        "id": "XaiEq0iLByH6",
        "colab_type": "code",
        "outputId": "30b1a9d4-dca2-4b4c-f1f9-4f583c9bd4b4",
        "colab": {
          "base_uri": "https://localhost:8080/",
          "height": 122
        }
      },
      "cell_type": "code",
      "source": [
        "from google.colab import drive\n",
        "drive.mount('/content/drive')"
      ],
      "execution_count": 4,
      "outputs": [
        {
          "output_type": "stream",
          "text": [
            "Go to this URL in a browser: https://accounts.google.com/o/oauth2/auth?client_id=947318989803-6bn6qk8qdgf4n4g3pfee6491hc0brc4i.apps.googleusercontent.com&redirect_uri=urn%3Aietf%3Awg%3Aoauth%3A2.0%3Aoob&scope=email%20https%3A%2F%2Fwww.googleapis.com%2Fauth%2Fdocs.test%20https%3A%2F%2Fwww.googleapis.com%2Fauth%2Fdrive%20https%3A%2F%2Fwww.googleapis.com%2Fauth%2Fdrive.photos.readonly%20https%3A%2F%2Fwww.googleapis.com%2Fauth%2Fpeopleapi.readonly&response_type=code\n",
            "\n",
            "Enter your authorization code:\n",
            "··········\n",
            "Mounted at /content/drive\n"
          ],
          "name": "stdout"
        }
      ]
    },
    {
      "metadata": {
        "id": "c81ia0ihDP6G",
        "colab_type": "code",
        "outputId": "0a39dfe0-599f-4226-b616-81b69d3d7c11",
        "colab": {
          "base_uri": "https://localhost:8080/",
          "height": 34
        }
      },
      "cell_type": "code",
      "source": [
        "!ls drive/'My Drive'"
      ],
      "execution_count": 3,
      "outputs": [
        {
          "output_type": "stream",
          "text": [
            "ls: cannot access 'drive/My Drive': No such file or directory\n"
          ],
          "name": "stdout"
        }
      ]
    },
    {
      "metadata": {
        "id": "CBBmqYhQB9kZ",
        "colab_type": "code",
        "colab": {}
      },
      "cell_type": "code",
      "source": [
        "Forex=pd.read_csv(\"drive/My Drive/EURAUDtesttrain.csv\")"
      ],
      "execution_count": 0,
      "outputs": []
    },
    {
      "metadata": {
        "id": "f3MGg_q0EWtV",
        "colab_type": "code",
        "outputId": "b444dd06-acc2-4b0b-b630-85a55e7726bc",
        "colab": {
          "base_uri": "https://localhost:8080/",
          "height": 204
        }
      },
      "cell_type": "code",
      "source": [
        "Forex.head()"
      ],
      "execution_count": 0,
      "outputs": [
        {
          "output_type": "execute_result",
          "data": {
            "text/html": [
              "<div>\n",
              "<style scoped>\n",
              "    .dataframe tbody tr th:only-of-type {\n",
              "        vertical-align: middle;\n",
              "    }\n",
              "\n",
              "    .dataframe tbody tr th {\n",
              "        vertical-align: top;\n",
              "    }\n",
              "\n",
              "    .dataframe thead th {\n",
              "        text-align: right;\n",
              "    }\n",
              "</style>\n",
              "<table border=\"1\" class=\"dataframe\">\n",
              "  <thead>\n",
              "    <tr style=\"text-align: right;\">\n",
              "      <th></th>\n",
              "      <th>Unnamed: 0</th>\n",
              "      <th>Unnamed: 1</th>\n",
              "      <th>open</th>\n",
              "      <th>high</th>\n",
              "      <th>low</th>\n",
              "      <th>close</th>\n",
              "      <th>volume</th>\n",
              "      <th>currentopen</th>\n",
              "      <th>currentclose(predict)</th>\n",
              "    </tr>\n",
              "  </thead>\n",
              "  <tbody>\n",
              "    <tr>\n",
              "      <th>0</th>\n",
              "      <td>2011.01.06</td>\n",
              "      <td>0:00</td>\n",
              "      <td>1.32314</td>\n",
              "      <td>1.32704</td>\n",
              "      <td>1.31389</td>\n",
              "      <td>1.31534</td>\n",
              "      <td>102111</td>\n",
              "      <td>1.31546</td>\n",
              "      <td>1.30712</td>\n",
              "    </tr>\n",
              "    <tr>\n",
              "      <th>1</th>\n",
              "      <td>2011.01.07</td>\n",
              "      <td>0:00</td>\n",
              "      <td>1.31546</td>\n",
              "      <td>1.32001</td>\n",
              "      <td>1.30526</td>\n",
              "      <td>1.30712</td>\n",
              "      <td>97063</td>\n",
              "      <td>1.30703</td>\n",
              "      <td>1.29572</td>\n",
              "    </tr>\n",
              "    <tr>\n",
              "      <th>2</th>\n",
              "      <td>2011.01.10</td>\n",
              "      <td>0:00</td>\n",
              "      <td>1.30703</td>\n",
              "      <td>1.31025</td>\n",
              "      <td>1.29421</td>\n",
              "      <td>1.29572</td>\n",
              "      <td>98097</td>\n",
              "      <td>1.29611</td>\n",
              "      <td>1.30290</td>\n",
              "    </tr>\n",
              "    <tr>\n",
              "      <th>3</th>\n",
              "      <td>2011.01.11</td>\n",
              "      <td>0:00</td>\n",
              "      <td>1.29611</td>\n",
              "      <td>1.30641</td>\n",
              "      <td>1.29289</td>\n",
              "      <td>1.30290</td>\n",
              "      <td>92289</td>\n",
              "      <td>1.30275</td>\n",
              "      <td>1.32097</td>\n",
              "    </tr>\n",
              "    <tr>\n",
              "      <th>4</th>\n",
              "      <td>2011.01.12</td>\n",
              "      <td>0:00</td>\n",
              "      <td>1.30275</td>\n",
              "      <td>1.32193</td>\n",
              "      <td>1.30220</td>\n",
              "      <td>1.32097</td>\n",
              "      <td>101262</td>\n",
              "      <td>1.32081</td>\n",
              "      <td>1.31807</td>\n",
              "    </tr>\n",
              "  </tbody>\n",
              "</table>\n",
              "</div>"
            ],
            "text/plain": [
              "   Unnamed: 0 Unnamed: 1     open     high      low    close  volume  \\\n",
              "0  2011.01.06       0:00  1.32314  1.32704  1.31389  1.31534  102111   \n",
              "1  2011.01.07       0:00  1.31546  1.32001  1.30526  1.30712   97063   \n",
              "2  2011.01.10       0:00  1.30703  1.31025  1.29421  1.29572   98097   \n",
              "3  2011.01.11       0:00  1.29611  1.30641  1.29289  1.30290   92289   \n",
              "4  2011.01.12       0:00  1.30275  1.32193  1.30220  1.32097  101262   \n",
              "\n",
              "   currentopen  currentclose(predict)  \n",
              "0      1.31546                1.30712  \n",
              "1      1.30703                1.29572  \n",
              "2      1.29611                1.30290  \n",
              "3      1.30275                1.32097  \n",
              "4      1.32081                1.31807  "
            ]
          },
          "metadata": {
            "tags": []
          },
          "execution_count": 9
        }
      ]
    },
    {
      "metadata": {
        "id": "ARRgySy2ShwY",
        "colab_type": "code",
        "outputId": "54557737-21b6-449f-caaa-65122d1429aa",
        "colab": {
          "base_uri": "https://localhost:8080/",
          "height": 297
        }
      },
      "cell_type": "code",
      "source": [
        "Forex.shape\n",
        "Forex.describe()"
      ],
      "execution_count": 0,
      "outputs": [
        {
          "output_type": "execute_result",
          "data": {
            "text/html": [
              "<div>\n",
              "<style scoped>\n",
              "    .dataframe tbody tr th:only-of-type {\n",
              "        vertical-align: middle;\n",
              "    }\n",
              "\n",
              "    .dataframe tbody tr th {\n",
              "        vertical-align: top;\n",
              "    }\n",
              "\n",
              "    .dataframe thead th {\n",
              "        text-align: right;\n",
              "    }\n",
              "</style>\n",
              "<table border=\"1\" class=\"dataframe\">\n",
              "  <thead>\n",
              "    <tr style=\"text-align: right;\">\n",
              "      <th></th>\n",
              "      <th>open</th>\n",
              "      <th>high</th>\n",
              "      <th>low</th>\n",
              "      <th>close</th>\n",
              "      <th>volume</th>\n",
              "      <th>currentopen</th>\n",
              "      <th>currentclose(predict)</th>\n",
              "    </tr>\n",
              "  </thead>\n",
              "  <tbody>\n",
              "    <tr>\n",
              "      <th>count</th>\n",
              "      <td>2047.000000</td>\n",
              "      <td>2047.000000</td>\n",
              "      <td>2047.000000</td>\n",
              "      <td>2047.000000</td>\n",
              "      <td>2047.000000</td>\n",
              "      <td>2047.000000</td>\n",
              "      <td>2047.000000</td>\n",
              "    </tr>\n",
              "    <tr>\n",
              "      <th>mean</th>\n",
              "      <td>1.429936</td>\n",
              "      <td>1.436889</td>\n",
              "      <td>1.423761</td>\n",
              "      <td>1.430035</td>\n",
              "      <td>93945.778212</td>\n",
              "      <td>1.430057</td>\n",
              "      <td>1.430158</td>\n",
              "    </tr>\n",
              "    <tr>\n",
              "      <th>std</th>\n",
              "      <td>0.110089</td>\n",
              "      <td>0.110802</td>\n",
              "      <td>0.109472</td>\n",
              "      <td>0.110087</td>\n",
              "      <td>30527.663694</td>\n",
              "      <td>0.110108</td>\n",
              "      <td>0.110099</td>\n",
              "    </tr>\n",
              "    <tr>\n",
              "      <th>min</th>\n",
              "      <td>1.162730</td>\n",
              "      <td>1.168950</td>\n",
              "      <td>1.160340</td>\n",
              "      <td>1.161480</td>\n",
              "      <td>15163.000000</td>\n",
              "      <td>1.162730</td>\n",
              "      <td>1.161480</td>\n",
              "    </tr>\n",
              "    <tr>\n",
              "      <th>25%</th>\n",
              "      <td>1.353195</td>\n",
              "      <td>1.360275</td>\n",
              "      <td>1.347660</td>\n",
              "      <td>1.353795</td>\n",
              "      <td>72793.000000</td>\n",
              "      <td>1.353445</td>\n",
              "      <td>1.354170</td>\n",
              "    </tr>\n",
              "    <tr>\n",
              "      <th>50%</th>\n",
              "      <td>1.446390</td>\n",
              "      <td>1.453560</td>\n",
              "      <td>1.440210</td>\n",
              "      <td>1.447330</td>\n",
              "      <td>93096.000000</td>\n",
              "      <td>1.447260</td>\n",
              "      <td>1.447360</td>\n",
              "    </tr>\n",
              "    <tr>\n",
              "      <th>75%</th>\n",
              "      <td>1.509450</td>\n",
              "      <td>1.517665</td>\n",
              "      <td>1.502610</td>\n",
              "      <td>1.509550</td>\n",
              "      <td>110574.000000</td>\n",
              "      <td>1.509645</td>\n",
              "      <td>1.509745</td>\n",
              "    </tr>\n",
              "    <tr>\n",
              "      <th>max</th>\n",
              "      <td>1.631960</td>\n",
              "      <td>1.659080</td>\n",
              "      <td>1.627990</td>\n",
              "      <td>1.633450</td>\n",
              "      <td>292619.000000</td>\n",
              "      <td>1.631960</td>\n",
              "      <td>1.633450</td>\n",
              "    </tr>\n",
              "  </tbody>\n",
              "</table>\n",
              "</div>"
            ],
            "text/plain": [
              "              open         high          low        close         volume  \\\n",
              "count  2047.000000  2047.000000  2047.000000  2047.000000    2047.000000   \n",
              "mean      1.429936     1.436889     1.423761     1.430035   93945.778212   \n",
              "std       0.110089     0.110802     0.109472     0.110087   30527.663694   \n",
              "min       1.162730     1.168950     1.160340     1.161480   15163.000000   \n",
              "25%       1.353195     1.360275     1.347660     1.353795   72793.000000   \n",
              "50%       1.446390     1.453560     1.440210     1.447330   93096.000000   \n",
              "75%       1.509450     1.517665     1.502610     1.509550  110574.000000   \n",
              "max       1.631960     1.659080     1.627990     1.633450  292619.000000   \n",
              "\n",
              "       currentopen  currentclose(predict)  \n",
              "count  2047.000000            2047.000000  \n",
              "mean      1.430057               1.430158  \n",
              "std       0.110108               0.110099  \n",
              "min       1.162730               1.161480  \n",
              "25%       1.353445               1.354170  \n",
              "50%       1.447260               1.447360  \n",
              "75%       1.509645               1.509745  \n",
              "max       1.631960               1.633450  "
            ]
          },
          "metadata": {
            "tags": []
          },
          "execution_count": 10
        }
      ]
    },
    {
      "metadata": {
        "id": "yBB-Ug5hzm02",
        "colab_type": "code",
        "outputId": "3583b11f-0683-47c5-df1d-0c7cd6bde0af",
        "colab": {
          "base_uri": "https://localhost:8080/",
          "height": 204
        }
      },
      "cell_type": "code",
      "source": [
        "#train['Age'].apply(lambda x: meanMaleAge if x=0  )\n",
        "#Forex.drop(['Predict'],axis=1)\n",
        "Forex['Prdeict']=Forex['currentclose(predict)']-Forex['currentopen']\n",
        "Forex['Prdeict']=Forex['Prdeict'].apply(lambda x: 1 if x > 0 else 0)\n",
        "Forex.head()\n"
      ],
      "execution_count": 6,
      "outputs": [
        {
          "output_type": "execute_result",
          "data": {
            "text/html": [
              "<div>\n",
              "<style scoped>\n",
              "    .dataframe tbody tr th:only-of-type {\n",
              "        vertical-align: middle;\n",
              "    }\n",
              "\n",
              "    .dataframe tbody tr th {\n",
              "        vertical-align: top;\n",
              "    }\n",
              "\n",
              "    .dataframe thead th {\n",
              "        text-align: right;\n",
              "    }\n",
              "</style>\n",
              "<table border=\"1\" class=\"dataframe\">\n",
              "  <thead>\n",
              "    <tr style=\"text-align: right;\">\n",
              "      <th></th>\n",
              "      <th>Unnamed: 0</th>\n",
              "      <th>Unnamed: 1</th>\n",
              "      <th>open</th>\n",
              "      <th>high</th>\n",
              "      <th>low</th>\n",
              "      <th>close</th>\n",
              "      <th>volume</th>\n",
              "      <th>currentopen</th>\n",
              "      <th>currentclose(predict)</th>\n",
              "      <th>Prdeict</th>\n",
              "    </tr>\n",
              "  </thead>\n",
              "  <tbody>\n",
              "    <tr>\n",
              "      <th>0</th>\n",
              "      <td>2011.01.06</td>\n",
              "      <td>0:00</td>\n",
              "      <td>1.32314</td>\n",
              "      <td>1.32704</td>\n",
              "      <td>1.31389</td>\n",
              "      <td>1.31534</td>\n",
              "      <td>102111</td>\n",
              "      <td>1.31546</td>\n",
              "      <td>1.30712</td>\n",
              "      <td>0</td>\n",
              "    </tr>\n",
              "    <tr>\n",
              "      <th>1</th>\n",
              "      <td>2011.01.07</td>\n",
              "      <td>0:00</td>\n",
              "      <td>1.31546</td>\n",
              "      <td>1.32001</td>\n",
              "      <td>1.30526</td>\n",
              "      <td>1.30712</td>\n",
              "      <td>97063</td>\n",
              "      <td>1.30703</td>\n",
              "      <td>1.29572</td>\n",
              "      <td>0</td>\n",
              "    </tr>\n",
              "    <tr>\n",
              "      <th>2</th>\n",
              "      <td>2011.01.10</td>\n",
              "      <td>0:00</td>\n",
              "      <td>1.30703</td>\n",
              "      <td>1.31025</td>\n",
              "      <td>1.29421</td>\n",
              "      <td>1.29572</td>\n",
              "      <td>98097</td>\n",
              "      <td>1.29611</td>\n",
              "      <td>1.30290</td>\n",
              "      <td>1</td>\n",
              "    </tr>\n",
              "    <tr>\n",
              "      <th>3</th>\n",
              "      <td>2011.01.11</td>\n",
              "      <td>0:00</td>\n",
              "      <td>1.29611</td>\n",
              "      <td>1.30641</td>\n",
              "      <td>1.29289</td>\n",
              "      <td>1.30290</td>\n",
              "      <td>92289</td>\n",
              "      <td>1.30275</td>\n",
              "      <td>1.32097</td>\n",
              "      <td>1</td>\n",
              "    </tr>\n",
              "    <tr>\n",
              "      <th>4</th>\n",
              "      <td>2011.01.12</td>\n",
              "      <td>0:00</td>\n",
              "      <td>1.30275</td>\n",
              "      <td>1.32193</td>\n",
              "      <td>1.30220</td>\n",
              "      <td>1.32097</td>\n",
              "      <td>101262</td>\n",
              "      <td>1.32081</td>\n",
              "      <td>1.31807</td>\n",
              "      <td>0</td>\n",
              "    </tr>\n",
              "  </tbody>\n",
              "</table>\n",
              "</div>"
            ],
            "text/plain": [
              "   Unnamed: 0 Unnamed: 1     open     high      low    close  volume  \\\n",
              "0  2011.01.06       0:00  1.32314  1.32704  1.31389  1.31534  102111   \n",
              "1  2011.01.07       0:00  1.31546  1.32001  1.30526  1.30712   97063   \n",
              "2  2011.01.10       0:00  1.30703  1.31025  1.29421  1.29572   98097   \n",
              "3  2011.01.11       0:00  1.29611  1.30641  1.29289  1.30290   92289   \n",
              "4  2011.01.12       0:00  1.30275  1.32193  1.30220  1.32097  101262   \n",
              "\n",
              "   currentopen  currentclose(predict)  Prdeict  \n",
              "0      1.31546                1.30712        0  \n",
              "1      1.30703                1.29572        0  \n",
              "2      1.29611                1.30290        1  \n",
              "3      1.30275                1.32097        1  \n",
              "4      1.32081                1.31807        0  "
            ]
          },
          "metadata": {
            "tags": []
          },
          "execution_count": 6
        }
      ]
    },
    {
      "metadata": {
        "id": "WB4uRa9VgCgc",
        "colab_type": "code",
        "outputId": "4d92c8a0-84be-449e-d3cd-b74f77e04303",
        "colab": {
          "base_uri": "https://localhost:8080/",
          "height": 554
        }
      },
      "cell_type": "code",
      "source": [
        "\n",
        "\n",
        "Forex=Forex.drop(['opena1','opena2','opena3'], axis=1)"
      ],
      "execution_count": 0,
      "outputs": [
        {
          "output_type": "error",
          "ename": "ValueError",
          "evalue": "ignored",
          "traceback": [
            "\u001b[0;31m---------------------------------------------------------------------------\u001b[0m",
            "\u001b[0;31mValueError\u001b[0m                                Traceback (most recent call last)",
            "\u001b[0;32m<ipython-input-11-d09f7df5bce3>\u001b[0m in \u001b[0;36m<module>\u001b[0;34m()\u001b[0m\n\u001b[1;32m      1\u001b[0m \u001b[0;34m\u001b[0m\u001b[0m\n\u001b[1;32m      2\u001b[0m \u001b[0;34m\u001b[0m\u001b[0m\n\u001b[0;32m----> 3\u001b[0;31m \u001b[0mForex\u001b[0m\u001b[0;34m=\u001b[0m\u001b[0mForex\u001b[0m\u001b[0;34m.\u001b[0m\u001b[0mdrop\u001b[0m\u001b[0;34m(\u001b[0m\u001b[0;34m[\u001b[0m\u001b[0;34m'opena1'\u001b[0m\u001b[0;34m,\u001b[0m\u001b[0;34m'opena2'\u001b[0m\u001b[0;34m,\u001b[0m\u001b[0;34m'opena3'\u001b[0m\u001b[0;34m]\u001b[0m\u001b[0;34m,\u001b[0m \u001b[0maxis\u001b[0m\u001b[0;34m=\u001b[0m\u001b[0;36m1\u001b[0m\u001b[0;34m)\u001b[0m\u001b[0;34m\u001b[0m\u001b[0;34m\u001b[0m\u001b[0m\n\u001b[0m",
            "\u001b[0;32m/usr/local/lib/python3.6/dist-packages/pandas/core/generic.py\u001b[0m in \u001b[0;36mdrop\u001b[0;34m(self, labels, axis, index, columns, level, inplace, errors)\u001b[0m\n\u001b[1;32m   2528\u001b[0m         \u001b[0;32mfor\u001b[0m \u001b[0maxis\u001b[0m\u001b[0;34m,\u001b[0m \u001b[0mlabels\u001b[0m \u001b[0;32min\u001b[0m \u001b[0maxes\u001b[0m\u001b[0;34m.\u001b[0m\u001b[0mitems\u001b[0m\u001b[0;34m(\u001b[0m\u001b[0;34m)\u001b[0m\u001b[0;34m:\u001b[0m\u001b[0;34m\u001b[0m\u001b[0;34m\u001b[0m\u001b[0m\n\u001b[1;32m   2529\u001b[0m             \u001b[0;32mif\u001b[0m \u001b[0mlabels\u001b[0m \u001b[0;32mis\u001b[0m \u001b[0;32mnot\u001b[0m \u001b[0;32mNone\u001b[0m\u001b[0;34m:\u001b[0m\u001b[0;34m\u001b[0m\u001b[0;34m\u001b[0m\u001b[0m\n\u001b[0;32m-> 2530\u001b[0;31m                 \u001b[0mobj\u001b[0m \u001b[0;34m=\u001b[0m \u001b[0mobj\u001b[0m\u001b[0;34m.\u001b[0m\u001b[0m_drop_axis\u001b[0m\u001b[0;34m(\u001b[0m\u001b[0mlabels\u001b[0m\u001b[0;34m,\u001b[0m \u001b[0maxis\u001b[0m\u001b[0;34m,\u001b[0m \u001b[0mlevel\u001b[0m\u001b[0;34m=\u001b[0m\u001b[0mlevel\u001b[0m\u001b[0;34m,\u001b[0m \u001b[0merrors\u001b[0m\u001b[0;34m=\u001b[0m\u001b[0merrors\u001b[0m\u001b[0;34m)\u001b[0m\u001b[0;34m\u001b[0m\u001b[0;34m\u001b[0m\u001b[0m\n\u001b[0m\u001b[1;32m   2531\u001b[0m \u001b[0;34m\u001b[0m\u001b[0m\n\u001b[1;32m   2532\u001b[0m         \u001b[0;32mif\u001b[0m \u001b[0minplace\u001b[0m\u001b[0;34m:\u001b[0m\u001b[0;34m\u001b[0m\u001b[0;34m\u001b[0m\u001b[0m\n",
            "\u001b[0;32m/usr/local/lib/python3.6/dist-packages/pandas/core/generic.py\u001b[0m in \u001b[0;36m_drop_axis\u001b[0;34m(self, labels, axis, level, errors)\u001b[0m\n\u001b[1;32m   2560\u001b[0m                 \u001b[0mnew_axis\u001b[0m \u001b[0;34m=\u001b[0m \u001b[0maxis\u001b[0m\u001b[0;34m.\u001b[0m\u001b[0mdrop\u001b[0m\u001b[0;34m(\u001b[0m\u001b[0mlabels\u001b[0m\u001b[0;34m,\u001b[0m \u001b[0mlevel\u001b[0m\u001b[0;34m=\u001b[0m\u001b[0mlevel\u001b[0m\u001b[0;34m,\u001b[0m \u001b[0merrors\u001b[0m\u001b[0;34m=\u001b[0m\u001b[0merrors\u001b[0m\u001b[0;34m)\u001b[0m\u001b[0;34m\u001b[0m\u001b[0;34m\u001b[0m\u001b[0m\n\u001b[1;32m   2561\u001b[0m             \u001b[0;32melse\u001b[0m\u001b[0;34m:\u001b[0m\u001b[0;34m\u001b[0m\u001b[0;34m\u001b[0m\u001b[0m\n\u001b[0;32m-> 2562\u001b[0;31m                 \u001b[0mnew_axis\u001b[0m \u001b[0;34m=\u001b[0m \u001b[0maxis\u001b[0m\u001b[0;34m.\u001b[0m\u001b[0mdrop\u001b[0m\u001b[0;34m(\u001b[0m\u001b[0mlabels\u001b[0m\u001b[0;34m,\u001b[0m \u001b[0merrors\u001b[0m\u001b[0;34m=\u001b[0m\u001b[0merrors\u001b[0m\u001b[0;34m)\u001b[0m\u001b[0;34m\u001b[0m\u001b[0;34m\u001b[0m\u001b[0m\n\u001b[0m\u001b[1;32m   2563\u001b[0m             \u001b[0mdropped\u001b[0m \u001b[0;34m=\u001b[0m \u001b[0mself\u001b[0m\u001b[0;34m.\u001b[0m\u001b[0mreindex\u001b[0m\u001b[0;34m(\u001b[0m\u001b[0;34m**\u001b[0m\u001b[0;34m{\u001b[0m\u001b[0maxis_name\u001b[0m\u001b[0;34m:\u001b[0m \u001b[0mnew_axis\u001b[0m\u001b[0;34m}\u001b[0m\u001b[0;34m)\u001b[0m\u001b[0;34m\u001b[0m\u001b[0;34m\u001b[0m\u001b[0m\n\u001b[1;32m   2564\u001b[0m             \u001b[0;32mtry\u001b[0m\u001b[0;34m:\u001b[0m\u001b[0;34m\u001b[0m\u001b[0;34m\u001b[0m\u001b[0m\n",
            "\u001b[0;32m/usr/local/lib/python3.6/dist-packages/pandas/core/indexes/base.py\u001b[0m in \u001b[0;36mdrop\u001b[0;34m(self, labels, errors)\u001b[0m\n\u001b[1;32m   3742\u001b[0m             \u001b[0;32mif\u001b[0m \u001b[0merrors\u001b[0m \u001b[0;34m!=\u001b[0m \u001b[0;34m'ignore'\u001b[0m\u001b[0;34m:\u001b[0m\u001b[0;34m\u001b[0m\u001b[0;34m\u001b[0m\u001b[0m\n\u001b[1;32m   3743\u001b[0m                 raise ValueError('labels %s not contained in axis' %\n\u001b[0;32m-> 3744\u001b[0;31m                                  labels[mask])\n\u001b[0m\u001b[1;32m   3745\u001b[0m             \u001b[0mindexer\u001b[0m \u001b[0;34m=\u001b[0m \u001b[0mindexer\u001b[0m\u001b[0;34m[\u001b[0m\u001b[0;34m~\u001b[0m\u001b[0mmask\u001b[0m\u001b[0;34m]\u001b[0m\u001b[0;34m\u001b[0m\u001b[0;34m\u001b[0m\u001b[0m\n\u001b[1;32m   3746\u001b[0m         \u001b[0;32mreturn\u001b[0m \u001b[0mself\u001b[0m\u001b[0;34m.\u001b[0m\u001b[0mdelete\u001b[0m\u001b[0;34m(\u001b[0m\u001b[0mindexer\u001b[0m\u001b[0;34m)\u001b[0m\u001b[0;34m\u001b[0m\u001b[0;34m\u001b[0m\u001b[0m\n",
            "\u001b[0;31mValueError\u001b[0m: labels ['opena1' 'opena2' 'opena3'] not contained in axis"
          ]
        }
      ]
    },
    {
      "metadata": {
        "id": "cjJg7UyDnUil",
        "colab_type": "code",
        "outputId": "60e03c19-bf52-45db-98f9-a2f549152198",
        "colab": {
          "base_uri": "https://localhost:8080/",
          "height": 204
        }
      },
      "cell_type": "code",
      "source": [
        "Forex.open=(Forex.open*100000).astype(int)\n",
        "Forex.close=(Forex.close*100000).astype(int)\n",
        "Forex.high=(Forex.high*100000).astype(int)\n",
        "Forex.low=(Forex.low*100000).astype(int)\n",
        "Forex.currentopen=(Forex.currentopen*100000).astype(int)\n",
        "Forex['currentclose(predict)']=(Forex['currentclose(predict)'] *100000).astype(int)\n",
        "Forex.head()"
      ],
      "execution_count": 0,
      "outputs": [
        {
          "output_type": "execute_result",
          "data": {
            "text/html": [
              "<div>\n",
              "<style scoped>\n",
              "    .dataframe tbody tr th:only-of-type {\n",
              "        vertical-align: middle;\n",
              "    }\n",
              "\n",
              "    .dataframe tbody tr th {\n",
              "        vertical-align: top;\n",
              "    }\n",
              "\n",
              "    .dataframe thead th {\n",
              "        text-align: right;\n",
              "    }\n",
              "</style>\n",
              "<table border=\"1\" class=\"dataframe\">\n",
              "  <thead>\n",
              "    <tr style=\"text-align: right;\">\n",
              "      <th></th>\n",
              "      <th>Unnamed: 0</th>\n",
              "      <th>Unnamed: 1</th>\n",
              "      <th>open</th>\n",
              "      <th>high</th>\n",
              "      <th>low</th>\n",
              "      <th>close</th>\n",
              "      <th>volume</th>\n",
              "      <th>currentopen</th>\n",
              "      <th>currentclose(predict)</th>\n",
              "    </tr>\n",
              "  </thead>\n",
              "  <tbody>\n",
              "    <tr>\n",
              "      <th>0</th>\n",
              "      <td>2011.01.06</td>\n",
              "      <td>0:00</td>\n",
              "      <td>132314</td>\n",
              "      <td>132704</td>\n",
              "      <td>131389</td>\n",
              "      <td>131534</td>\n",
              "      <td>102111</td>\n",
              "      <td>131546</td>\n",
              "      <td>130712</td>\n",
              "    </tr>\n",
              "    <tr>\n",
              "      <th>1</th>\n",
              "      <td>2011.01.07</td>\n",
              "      <td>0:00</td>\n",
              "      <td>131546</td>\n",
              "      <td>132001</td>\n",
              "      <td>130526</td>\n",
              "      <td>130712</td>\n",
              "      <td>97063</td>\n",
              "      <td>130702</td>\n",
              "      <td>129572</td>\n",
              "    </tr>\n",
              "    <tr>\n",
              "      <th>2</th>\n",
              "      <td>2011.01.10</td>\n",
              "      <td>0:00</td>\n",
              "      <td>130702</td>\n",
              "      <td>131024</td>\n",
              "      <td>129421</td>\n",
              "      <td>129572</td>\n",
              "      <td>98097</td>\n",
              "      <td>129611</td>\n",
              "      <td>130290</td>\n",
              "    </tr>\n",
              "    <tr>\n",
              "      <th>3</th>\n",
              "      <td>2011.01.11</td>\n",
              "      <td>0:00</td>\n",
              "      <td>129611</td>\n",
              "      <td>130641</td>\n",
              "      <td>129288</td>\n",
              "      <td>130290</td>\n",
              "      <td>92289</td>\n",
              "      <td>130275</td>\n",
              "      <td>132097</td>\n",
              "    </tr>\n",
              "    <tr>\n",
              "      <th>4</th>\n",
              "      <td>2011.01.12</td>\n",
              "      <td>0:00</td>\n",
              "      <td>130275</td>\n",
              "      <td>132192</td>\n",
              "      <td>130220</td>\n",
              "      <td>132097</td>\n",
              "      <td>101262</td>\n",
              "      <td>132081</td>\n",
              "      <td>131807</td>\n",
              "    </tr>\n",
              "  </tbody>\n",
              "</table>\n",
              "</div>"
            ],
            "text/plain": [
              "   Unnamed: 0 Unnamed: 1    open    high     low   close  volume  currentopen  \\\n",
              "0  2011.01.06       0:00  132314  132704  131389  131534  102111       131546   \n",
              "1  2011.01.07       0:00  131546  132001  130526  130712   97063       130702   \n",
              "2  2011.01.10       0:00  130702  131024  129421  129572   98097       129611   \n",
              "3  2011.01.11       0:00  129611  130641  129288  130290   92289       130275   \n",
              "4  2011.01.12       0:00  130275  132192  130220  132097  101262       132081   \n",
              "\n",
              "   currentclose(predict)  \n",
              "0                 130712  \n",
              "1                 129572  \n",
              "2                 130290  \n",
              "3                 132097  \n",
              "4                 131807  "
            ]
          },
          "metadata": {
            "tags": []
          },
          "execution_count": 28
        }
      ]
    },
    {
      "metadata": {
        "id": "pRpwqKUwYocu",
        "colab_type": "code",
        "colab": {}
      },
      "cell_type": "code",
      "source": [
        "\n",
        "plt.plot(Forex.High)\n"
      ],
      "execution_count": 0,
      "outputs": []
    },
    {
      "metadata": {
        "id": "X50jv_VdgAOe",
        "colab_type": "code",
        "colab": {}
      },
      "cell_type": "code",
      "source": [
        "TrainData = train.drop(['Survived', 'PassengerId','Cabin','Fare','Name','Age','Ticket'], axis=1)\n",
        "SurvivedLabel = train[\"Survived\"]\n",
        "X_train, X_test,Y_train, Y_test = train_test_split(TrainData, SurvivedLabel, test_size = 0.20, random_state = 0)\n",
        "print (train.shape , X_train.shape , X_test.shape , Y_train.shape , Y_test.shape )\n",
        "\n",
        "\n"
      ],
      "execution_count": 0,
      "outputs": []
    },
    {
      "metadata": {
        "id": "qbhNmOOzgBDM",
        "colab_type": "code",
        "outputId": "a780b8af-cf01-4672-c00a-a5bec5a33abd",
        "colab": {
          "base_uri": "https://localhost:8080/",
          "height": 34
        }
      },
      "cell_type": "code",
      "source": [
        "ForexTrain=Forex[['open','high','close','low',  'currentopen', 'volume']] #,\n",
        "ForexTest=Forex['Prdeict']\n",
        "X_train, X_test,Y_train, Y_test = train_test_split(ForexTrain, ForexTest, test_size = 0.40, random_state = 0)\n",
        "print (ForexTrain.shape , X_train.shape , X_test.shape , Y_train.shape , Y_test.shape )"
      ],
      "execution_count": 7,
      "outputs": [
        {
          "output_type": "stream",
          "text": [
            "(2047, 6) (1228, 6) (819, 6) (1228,) (819,)\n"
          ],
          "name": "stdout"
        }
      ]
    },
    {
      "metadata": {
        "id": "YBz3jqTqieu8",
        "colab_type": "code",
        "outputId": "fc138c9f-bc0e-4bb8-d9ca-f47d581fad23",
        "colab": {
          "base_uri": "https://localhost:8080/",
          "height": 119
        }
      },
      "cell_type": "code",
      "source": [
        "Y_train.head()"
      ],
      "execution_count": 0,
      "outputs": [
        {
          "output_type": "execute_result",
          "data": {
            "text/plain": [
              "82      1.35459\n",
              "1616    1.40340\n",
              "1239    1.55347\n",
              "1480    1.47540\n",
              "326     1.26892\n",
              "Name: currentclose(predict), dtype: float64"
            ]
          },
          "metadata": {
            "tags": []
          },
          "execution_count": 21
        }
      ]
    },
    {
      "metadata": {
        "id": "mzGlkudCkovl",
        "colab_type": "code",
        "outputId": "db16f699-a8e3-40d4-a519-5d97db6ceb72",
        "colab": {
          "base_uri": "https://localhost:8080/",
          "height": 204
        }
      },
      "cell_type": "code",
      "source": [
        "X_test.head()"
      ],
      "execution_count": 0,
      "outputs": [
        {
          "output_type": "execute_result",
          "data": {
            "text/html": [
              "<div>\n",
              "<style scoped>\n",
              "    .dataframe tbody tr th:only-of-type {\n",
              "        vertical-align: middle;\n",
              "    }\n",
              "\n",
              "    .dataframe tbody tr th {\n",
              "        vertical-align: top;\n",
              "    }\n",
              "\n",
              "    .dataframe thead th {\n",
              "        text-align: right;\n",
              "    }\n",
              "</style>\n",
              "<table border=\"1\" class=\"dataframe\">\n",
              "  <thead>\n",
              "    <tr style=\"text-align: right;\">\n",
              "      <th></th>\n",
              "      <th>open</th>\n",
              "      <th>high</th>\n",
              "      <th>close</th>\n",
              "      <th>low</th>\n",
              "      <th>volume</th>\n",
              "    </tr>\n",
              "  </thead>\n",
              "  <tbody>\n",
              "    <tr>\n",
              "      <th>1145</th>\n",
              "      <td>1.44744</td>\n",
              "      <td>1.47107</td>\n",
              "      <td>1.46122</td>\n",
              "      <td>1.44680</td>\n",
              "      <td>142821</td>\n",
              "    </tr>\n",
              "    <tr>\n",
              "      <th>386</th>\n",
              "      <td>1.23647</td>\n",
              "      <td>1.24154</td>\n",
              "      <td>1.23835</td>\n",
              "      <td>1.23252</td>\n",
              "      <td>83557</td>\n",
              "    </tr>\n",
              "    <tr>\n",
              "      <th>1451</th>\n",
              "      <td>1.44881</td>\n",
              "      <td>1.45362</td>\n",
              "      <td>1.44840</td>\n",
              "      <td>1.44435</td>\n",
              "      <td>83312</td>\n",
              "    </tr>\n",
              "    <tr>\n",
              "      <th>721</th>\n",
              "      <td>1.43804</td>\n",
              "      <td>1.43819</td>\n",
              "      <td>1.42879</td>\n",
              "      <td>1.42709</td>\n",
              "      <td>45468</td>\n",
              "    </tr>\n",
              "    <tr>\n",
              "      <th>1476</th>\n",
              "      <td>1.48468</td>\n",
              "      <td>1.50882</td>\n",
              "      <td>1.50298</td>\n",
              "      <td>1.48433</td>\n",
              "      <td>92732</td>\n",
              "    </tr>\n",
              "  </tbody>\n",
              "</table>\n",
              "</div>"
            ],
            "text/plain": [
              "         open     high    close      low  volume\n",
              "1145  1.44744  1.47107  1.46122  1.44680  142821\n",
              "386   1.23647  1.24154  1.23835  1.23252   83557\n",
              "1451  1.44881  1.45362  1.44840  1.44435   83312\n",
              "721   1.43804  1.43819  1.42879  1.42709   45468\n",
              "1476  1.48468  1.50882  1.50298  1.48433   92732"
            ]
          },
          "metadata": {
            "tags": []
          },
          "execution_count": 22
        }
      ]
    },
    {
      "metadata": {
        "id": "74P55PmBh9a8",
        "colab_type": "code",
        "outputId": "94a04a0c-7b7c-4ee7-b994-2394293b08bc",
        "colab": {
          "base_uri": "https://localhost:8080/",
          "height": 136
        }
      },
      "cell_type": "code",
      "source": [
        "Model = RandomForestClassifier(n_estimators=100,criterion='gini', max_depth=10,max_leaf_nodes =80,min_samples_split=2)\n",
        "Model.fit( X_train , Y_train )\n"
      ],
      "execution_count": 34,
      "outputs": [
        {
          "output_type": "execute_result",
          "data": {
            "text/plain": [
              "RandomForestClassifier(bootstrap=True, class_weight=None, criterion='gini',\n",
              "            max_depth=10, max_features='auto', max_leaf_nodes=80,\n",
              "            min_impurity_decrease=0.0, min_impurity_split=None,\n",
              "            min_samples_leaf=1, min_samples_split=2,\n",
              "            min_weight_fraction_leaf=0.0, n_estimators=100, n_jobs=1,\n",
              "            oob_score=False, random_state=None, verbose=0,\n",
              "            warm_start=False)"
            ]
          },
          "metadata": {
            "tags": []
          },
          "execution_count": 34
        }
      ]
    },
    {
      "metadata": {
        "id": "YoQirsI3uIoe",
        "colab_type": "code",
        "outputId": "29502d7f-efbd-4c55-8996-fdd39113ab19",
        "colab": {
          "base_uri": "https://localhost:8080/",
          "height": 51
        }
      },
      "cell_type": "code",
      "source": [
        "YPredict=Model.predict(X_test)\n",
        "rms = sqrt(mean_squared_error(Y_test, YPredict))\n",
        "print(rms)\n",
        "print (Model.score( X_train , Y_train ) , Model.score( X_test , Y_test ))"
      ],
      "execution_count": 35,
      "outputs": [
        {
          "output_type": "stream",
          "text": [
            "0.7144078039736901\n",
            "0.9014657980456026 0.4896214896214896\n"
          ],
          "name": "stdout"
        }
      ]
    },
    {
      "metadata": {
        "id": "QMnCLmwiwOud",
        "colab_type": "code",
        "outputId": "18ade196-4743-4640-bd30-31872fa6a27b",
        "colab": {
          "base_uri": "https://localhost:8080/",
          "height": 231
        }
      },
      "cell_type": "code",
      "source": [
        "from sklearn.model_selection import cross_val_score\n",
        "from sklearn.tree import DecisionTreeClassifier\n",
        "\n",
        "\n",
        "DecisionTree = RandomForestClassifier(random_state=0)\n",
        "DecisionTree.fit(X=X_train, y=Y_train)\n",
        "\n",
        "\n",
        "DecisionTree.score(X=X_test, y=Y_test)"
      ],
      "execution_count": 0,
      "outputs": [
        {
          "output_type": "error",
          "ename": "TypeError",
          "evalue": "ignored",
          "traceback": [
            "\u001b[0;31m---------------------------------------------------------------------------\u001b[0m",
            "\u001b[0;31mTypeError\u001b[0m                                 Traceback (most recent call last)",
            "\u001b[0;32m<ipython-input-37-292d359ace92>\u001b[0m in \u001b[0;36m<module>\u001b[0;34m()\u001b[0m\n\u001b[1;32m      4\u001b[0m \u001b[0;34m\u001b[0m\u001b[0m\n\u001b[1;32m      5\u001b[0m \u001b[0mDecisionTree\u001b[0m \u001b[0;34m=\u001b[0m \u001b[0mRandomForestClassifier\u001b[0m\u001b[0;34m(\u001b[0m\u001b[0;34m)\u001b[0m\u001b[0;34m\u001b[0m\u001b[0;34m\u001b[0m\u001b[0m\n\u001b[0;32m----> 6\u001b[0;31m \u001b[0mRandomForestClassifier\u001b[0m\u001b[0;34m.\u001b[0m\u001b[0mfit\u001b[0m\u001b[0;34m(\u001b[0m\u001b[0mX\u001b[0m\u001b[0;34m=\u001b[0m\u001b[0mX_train\u001b[0m\u001b[0;34m,\u001b[0m \u001b[0my\u001b[0m\u001b[0;34m=\u001b[0m\u001b[0mY_train\u001b[0m\u001b[0;34m)\u001b[0m\u001b[0;34m\u001b[0m\u001b[0;34m\u001b[0m\u001b[0m\n\u001b[0m\u001b[1;32m      7\u001b[0m \u001b[0;34m\u001b[0m\u001b[0m\n\u001b[1;32m      8\u001b[0m \u001b[0;34m\u001b[0m\u001b[0m\n",
            "\u001b[0;31mTypeError\u001b[0m: fit() missing 1 required positional argument: 'self'"
          ]
        }
      ]
    },
    {
      "metadata": {
        "id": "bG35F9ELol3d",
        "colab_type": "code",
        "colab": {}
      },
      "cell_type": "code",
      "source": [
        "#model = svm.SVC(gamma='scale', decision_function_shape='ovo')\n",
        "#model.fit( X_train , Y_train )"
      ],
      "execution_count": 0,
      "outputs": []
    },
    {
      "metadata": {
        "id": "Hqp7LXEPhuv4",
        "colab_type": "code",
        "outputId": "ade9fd7c-06e9-400c-b5e9-d8ab62dac6d8",
        "colab": {
          "base_uri": "https://localhost:8080/",
          "height": 34
        }
      },
      "cell_type": "code",
      "source": [
        "#print (model.score( X_train , Y_train ) , model.score( X_test , Y_test ))\n",
        "print (Model.score( X_train , Y_train ) , Model.score( X_test , Y_test ))\n"
      ],
      "execution_count": 28,
      "outputs": [
        {
          "output_type": "stream",
          "text": [
            "0.8737785016286646 0.4884004884004884\n"
          ],
          "name": "stdout"
        }
      ]
    }
  ]
}